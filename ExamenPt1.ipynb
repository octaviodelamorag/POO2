{
 "cells": [
  {
   "cell_type": "code",
   "execution_count": 1,
   "metadata": {},
   "outputs": [],
   "source": [
    "from tkinter import *"
   ]
  },
  {
   "cell_type": "code",
   "execution_count": 4,
   "metadata": {},
   "outputs": [],
   "source": [
    "from tkinter import ttk\n",
    "window = Tk()\n",
    "window.title(\"Bienvenido\")\n",
    "window.geometry('300x300') #Determina el tamaño de la ventana\n",
    "window.configure(background = \"red\");  #Cambia el color de la ventana\n",
    "a = Label(window ,text = \"Nombre\").grid(row = 0,column = 0) #Pone un \"label\" en la columna y fila 0\n",
    "b = Label(window ,text = \"Película Favorita\").grid(row = 1,column = 0) #Pone un \"label\" en la columna 0 y fila 1\n",
    "c = Label(window ,text = \"Serie Favorita\").grid(row = 2,column = 0) #Pone un \"label\" en la columna 0 y fila 2\n",
    "d = Label(window ,text = \"Email\").grid(row = 3,column = 0) #Pone un \"label\" en la columna y fila 3\n",
    "a1 = Entry(window).grid(row = 0,column = 1) #Perimete la entrada de texto\n",
    "b1 = Entry(window).grid(row = 1,column = 1)\n",
    "c1 = Entry(window).grid(row = 2,column = 1)\n",
    "d1 = Entry(window).grid(row = 3,column = 1)\n",
    "def clicked(): #Hace que el botóon se pueda picar\n",
    "   res = \"Bienvenido a \" + txt.get()\n",
    "   lbl.configure(text= res)\n",
    "btn = ttk.Button(window ,text=\"Enviar\").grid(row=4,column=0)\n",
    "window.mainloop() #Mantiene la ventana abierta"
   ]
  }
 ],
 "metadata": {
  "kernelspec": {
   "display_name": "Python 3",
   "language": "python",
   "name": "python3"
  },
  "language_info": {
   "codemirror_mode": {
    "name": "ipython",
    "version": 3
   },
   "file_extension": ".py",
   "mimetype": "text/x-python",
   "name": "python",
   "nbconvert_exporter": "python",
   "pygments_lexer": "ipython3",
   "version": "3.12.1"
  }
 },
 "nbformat": 4,
 "nbformat_minor": 2
}
